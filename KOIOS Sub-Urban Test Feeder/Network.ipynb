{
 "cells": [
  {
   "cell_type": "code",
   "execution_count": 35,
   "metadata": {},
   "outputs": [],
   "source": [
    "### Libraries\n",
    "\n",
    "import pandapower as pp #import pandapower\n",
    "import pandas as pd\n",
    "import numpy as np\n",
    "import matplotlib.pyplot as plt\n"
   ]
  },
  {
   "cell_type": "code",
   "execution_count": 38,
   "metadata": {},
   "outputs": [
    {
     "name": "stdout",
     "output_type": "stream",
     "text": [
      "      name  vn_kv type  zone  in_service  min_vm_pu  max_vm_pu\n",
      "0    Bus-1   11.0    b  None        True       0.95       1.05\n",
      "1    Bus-2    0.4    b  None        True       0.95       1.05\n",
      "2    Bus-3    0.4    b  None        True       0.95       1.05\n",
      "3    Bus-4    0.4    b  None        True       0.95       1.05\n",
      "4    Bus-5    0.4    b  None        True       0.95       1.05\n",
      "5    Bus-6    0.4    b  None        True       0.95       1.05\n",
      "6    Bus-7    0.4    b  None        True       0.95       1.05\n",
      "7    Bus-8    0.4    b  None        True       0.95       1.05\n",
      "8    Bus-9    0.4    b  None        True       0.95       1.05\n",
      "9   Bus-10    0.4    b  None        True       0.95       1.05\n",
      "10  Bus-11    0.4    b  None        True       0.95       1.05\n",
      "11  Bus-12    0.4    b  None        True       0.95       1.05\n",
      "12  Bus-13    0.4    b  None        True       0.95       1.05\n",
      "13  Bus-14    0.4    b  None        True       0.95       1.05\n",
      "14  Bus-15    0.4    b  None        True       0.95       1.05\n",
      "15  Bus-16    0.4    b  None        True       0.95       1.05\n",
      "16  Bus-17    0.4    b  None        True       0.95       1.05\n",
      "17  Bus-18    0.4    b  None        True       0.95       1.05\n",
      "18  Bus-19    0.4    b  None        True       0.95       1.05\n",
      "19  Bus-20    0.4    b  None        True       0.95       1.05\n",
      "20  Bus-21    0.4    b  None        True       0.95       1.05\n",
      "21  Bus-22    0.4    b  None        True       0.95       1.05\n",
      "22  Bus-23    0.4    b  None        True       0.95       1.05\n",
      "23  Bus-24    0.4    b  None        True       0.95       1.05\n",
      "24  Bus-25    0.4    b  None        True       0.95       1.05\n",
      "25  Bus-26    0.4    b  None        True       0.95       1.05\n",
      "26  Bus-27    0.4    b  None        True       0.95       1.05\n",
      "27  Bus-28    0.4    b  None        True       0.95       1.05\n",
      "28  Bus-29    0.4    b  None        True       0.95       1.05\n",
      "29  Bus-30    0.4    b  None        True       0.95       1.05\n",
      "30  Bus-31    0.4    b  None        True       0.95       1.05\n",
      "31  Bus-32    0.4    b  None        True       0.95       1.05\n",
      "32  Bus-33    0.4    b  None        True       0.95       1.05\n",
      "33  Bus-34    0.4    b  None        True       0.95       1.05\n",
      "34  Bus-35    0.4    b  None        True       0.95       1.05\n",
      "35  Bus-36    0.4    b  None        True       0.95       1.05\n",
      "36  Bus-37    0.4    b  None        True       0.95       1.05\n",
      "37  Bus-38    0.4    b  None        True       0.95       1.05\n",
      "38  Bus-39    0.4    b  None        True       0.95       1.05\n",
      "39  Bus-40    0.4    b  None        True       0.95       1.05\n",
      "40  Bus-41    0.4    b  None        True       0.95       1.05\n",
      "41  Bus-42    0.4    b  None        True       0.95       1.05\n",
      "42  Bus-43    0.4    b  None        True       0.95       1.05\n",
      "43  Bus-44    0.4    b  None        True       0.95       1.05\n",
      "44  Bus-45    0.4    b  None        True       0.95       1.05\n",
      "45  Bus-46    0.4    b  None        True       0.95       1.05\n",
      "46  Bus-47    0.4    b  None        True       0.95       1.05\n",
      "47  Bus-48    0.4    b  None        True       0.95       1.05\n",
      "48  Bus-49    0.4    b  None        True       0.95       1.05\n",
      "49  Bus-50    0.4    b  None        True       0.95       1.05\n",
      "50  Bus-51    0.4    b  None        True       0.95       1.05\n",
      "51  Bus-52    0.4    b  None        True       0.95       1.05\n",
      "52  Bus-53    0.4    b  None        True       0.95       1.05\n",
      "53  Bus-54    0.4    b  None        True       0.95       1.05\n",
      "54  Bus-55    0.4    b  None        True       0.95       1.05\n",
      "55  Bus-56    0.4    b  None        True       0.95       1.05\n",
      "56  Bus-57    0.4    b  None        True       0.95       1.05\n",
      "57  Bus-58    0.4    b  None        True       0.95       1.05\n",
      "58  Bus-59    0.4    b  None        True       0.95       1.05\n",
      "59  Bus-60    0.4    b  None        True       0.95       1.05\n",
      "60  Bus-61    0.4    b  None        True       0.95       1.05\n",
      "61  Bus-62    0.4    b  None        True       0.95       1.05\n",
      "62  Bus-63    0.4    b  None        True       0.95       1.05\n",
      "63  Bus-64    0.4    b  None        True       0.95       1.05\n",
      "64  Bus-65    0.4    b  None        True       0.95       1.05\n",
      "65  Bus-66    0.4    b  None        True       0.95       1.05\n",
      "66  Bus-67    0.4    b  None        True       0.95       1.05\n",
      "67  Bus-68    0.4    b  None        True       0.95       1.05\n",
      "68  Bus-69    0.4    b  None        True       0.95       1.05\n",
      "69  Bus-70    0.4    b  None        True       0.95       1.05\n",
      "70  Bus-71    0.4    b  None        True       0.95       1.05\n",
      "71  Bus-72    0.4    b  None        True       0.95       1.05\n",
      "72  Bus-73    0.4    b  None        True       0.95       1.05\n",
      "73  Bus-74    0.4    b  None        True       0.95       1.05\n"
     ]
    }
   ],
   "source": [
    "# Create an empty network\n",
    "net = pp.create_empty_network(sn_mva=0.315) #create an empty network\n",
    "\n",
    "# Read the Excel file and sheet\n",
    "excel_file = \"Network_Topology.xlsx\"\n",
    "sheet_name = \"Bus_Char\"\n",
    "\n",
    "# Read the data into a DataFrame\n",
    "bus_df = pd.read_excel(excel_file, sheet_name=sheet_name)\n",
    "\n",
    "for index, row in bus_df.iterrows():\n",
    "    bus_id = row['Bus']                # Bus ID\n",
    "    bus_type = row['Type']             # Type (Main, A, B, etc.)\n",
    "    vmin_pu = row['Vmin']              # Minimum voltage in pu\n",
    "    vmax_pu = row['Vmax']              # Maximum voltage in pu\n",
    "    vn_kv = row['Vnom']                # Nominal voltage in kV\n",
    "    \n",
    "    # Bus name (can be adjusted as needed)\n",
    "    bus_name = f\"Bus-{bus_id}\"\n",
    "    \n",
    "    # Create the bus in Pandapower\n",
    "    pp.create_bus(net, \n",
    "                  vn_kv=vn_kv, \n",
    "                  name=bus_name, \n",
    "                  min_vm_pu=vmin_pu, \n",
    "                  max_vm_pu=vmax_pu)\n",
    "    \n",
    "# Print the network to verify\n",
    "print(net.bus)\n"
   ]
  },
  {
   "cell_type": "code",
   "execution_count": 39,
   "metadata": {},
   "outputs": [
    {
     "data": {
      "text/plain": [
       "0"
      ]
     },
     "execution_count": 39,
     "metadata": {},
     "output_type": "execute_result"
    }
   ],
   "source": [
    "# External grid have the same characteristics with the IEEE_European_Test_Feeder\n",
    "pp.create_ext_grid(net,0 , vm_pu=1, va_degree=0,slack_weight=1, s_sc_max_mva=10000,s_sc_min_mva=8000,rx_min=0.1, rx_max=0.1, r0x0_max=0.1, x0x_max=1.0, r0x0_min=0.1,x0x_min=1.0) # Create an external grid connection\n"
   ]
  },
  {
   "cell_type": "code",
   "execution_count": 19,
   "metadata": {},
   "outputs": [
    {
     "name": "stderr",
     "output_type": "stream",
     "text": [
      "c:\\Users\\savva\\AppData\\Local\\anaconda3\\Lib\\site-packages\\pandapower\\create.py:4964: FutureWarning: Setting an item of incompatible dtype is deprecated and will raise an error in a future version of pandas. Value 'Dyn' has dtype incompatible with float64, please explicitly cast to a compatible dtype first.\n",
      "  net[element_type].at[index, column] = value\n"
     ]
    }
   ],
   "source": [
    "# This transformer is the same with the ieee_european_lv_assymetric network also see\n",
    "# \"08 MVA 10/04 kV Dyn1 ASEA\", transforer std_type \n",
    "trafo = pp.create_transformer_from_parameters(net, hv_bus=GridBus, lv_bus=FeederBus, \n",
    "                                          sn_mva= 0.315, vn_hv_kv= 11, \n",
    "                                          vn_lv_kv= 0.416, vk_percent= 4.01995, \n",
    "                                          vkr_percent= 0.4, pfe_kw= 0, \n",
    "                                          i0_percent= 0, shift_degree= 30, \n",
    "                                          tap_side= 'hv',tap_neutral= 0,\n",
    "                                          tap_min= -2, tap_max= 2,\n",
    "                                          tap_step_degree= 0,\n",
    "                                          tap_step_percent= 2.5,\n",
    "                                          tap_pos=0,\n",
    "                                          tap_phase_shifter= False,\n",
    "                                          vk0_percent= 4.01995, vkr0_percent= 0.4, \n",
    "                                          mag0_percent= 1, mag0_rx= 0,\n",
    "                                          si0_hv_partial= 0.9,vector_group= \"Dyn\",\n",
    "                                          parallel=1,name=\"Trasformer\"\n",
    "                                           )\n",
    "\n",
    "# print(net.trafo)\n",
    "\n"
   ]
  }
 ],
 "metadata": {
  "kernelspec": {
   "display_name": "base",
   "language": "python",
   "name": "python3"
  },
  "language_info": {
   "codemirror_mode": {
    "name": "ipython",
    "version": 3
   },
   "file_extension": ".py",
   "mimetype": "text/x-python",
   "name": "python",
   "nbconvert_exporter": "python",
   "pygments_lexer": "ipython3",
   "version": "3.11.5"
  }
 },
 "nbformat": 4,
 "nbformat_minor": 2
}
