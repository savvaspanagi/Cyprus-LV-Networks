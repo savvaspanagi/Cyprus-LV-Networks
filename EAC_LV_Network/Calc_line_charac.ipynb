{
 "cells": [
  {
   "cell_type": "code",
   "execution_count": 1,
   "metadata": {},
   "outputs": [
    {
     "name": "stdout",
     "output_type": "stream",
     "text": [
      "R1 (ohms): 0.2675, X1 (ohms): 0.2796\n",
      "R0 (ohms): 0.4123, X0 (ohms): 1.6588\n"
     ]
    }
   ],
   "source": [
    "import numpy as np\n",
    "\n",
    "# Given data\n",
    "R_matrix = np.array([\n",
    "    [0.3157, 0.0482, 0.0482, 0.0483],\n",
    "    [0.0482, 0.3157, 0.0483, 0.0483],\n",
    "    [0.0482, 0.0483, 0.3157, 0.0483],\n",
    "    [0.0483, 0.0483, 0.0483, 0.3157]\n",
    "])\n",
    "\n",
    "L_matrix_mH = np.array([\n",
    "    [2.50, 1.61, 1.47, 1.39],\n",
    "    [1.61, 2.50, 1.61, 1.47],\n",
    "    [1.47, 1.61, 2.50, 1.61],\n",
    "    [1.39, 1.47, 1.61, 2.50]\n",
    "])\n",
    "\n",
    "# Convert L_matrix from mH to H\n",
    "L_matrix_H = L_matrix_mH / 1000\n",
    "\n",
    "# System frequency in Hz\n",
    "frequency = 50\n",
    "\n",
    "# Compute X_matrix (reactance in ohms)\n",
    "X_matrix = 2 * np.pi * frequency * L_matrix_H\n",
    "\n",
    "# Combine R and X to form the Z matrix\n",
    "Z_matrix = R_matrix + 1j * X_matrix\n",
    "\n",
    "# Extract key impedances\n",
    "Z_aa = Z_matrix[0, 0]  # Self-impedance\n",
    "Z_ab = Z_matrix[0, 1]  # Mutual impedance between phases\n",
    "Z_an = Z_matrix[0, -1]  # Phase-to-neutral impedance\n",
    "\n",
    "# Compute sequence impedances\n",
    "Z_1 = Z_aa - Z_ab  # Positive-sequence impedance (Z1 = Z2 for symmetry)\n",
    "Z_0 = Z_aa + 2 * Z_an  # Zero-sequence impedance\n",
    "\n",
    "# Separate into resistance (R) and reactance (X)\n",
    "R1 = np.real(Z_1)\n",
    "X1 = np.imag(Z_1)\n",
    "R0 = np.real(Z_0)\n",
    "X0 = np.imag(Z_0)\n",
    "\n",
    "# Print results\n",
    "print(f\"R1 (ohms): {R1:.4f}, X1 (ohms): {X1:.4f}\")\n",
    "print(f\"R0 (ohms): {R0:.4f}, X0 (ohms): {X0:.4f}\")\n"
   ]
  }
 ],
 "metadata": {
  "kernelspec": {
   "display_name": "base",
   "language": "python",
   "name": "python3"
  },
  "language_info": {
   "codemirror_mode": {
    "name": "ipython",
    "version": 3
   },
   "file_extension": ".py",
   "mimetype": "text/x-python",
   "name": "python",
   "nbconvert_exporter": "python",
   "pygments_lexer": "ipython3",
   "version": "3.11.5"
  }
 },
 "nbformat": 4,
 "nbformat_minor": 2
}
